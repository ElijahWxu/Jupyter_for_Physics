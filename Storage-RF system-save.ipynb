{
 "cells": [
  {
   "cell_type": "markdown",
   "metadata": {},
   "source": [
    "#  Storage- electron-Ring-RF"
   ]
  },
  {
   "cell_type": "code",
   "execution_count": 1,
   "metadata": {},
   "outputs": [],
   "source": [
    "#physical constant\n",
    "\n",
    "clight=299792458      # m/s\n",
    "me0=9.107e-31 # mass of electron kg\n",
    "eps0=8.854e-12   # permitivity of free-space\n",
    "mu0=4*pi*1e-7  # H/m\n",
    "qe=1.602e-19 #C\n",
    "Bzk=1.380e-23 # Boltzmann's constant j/K\n",
    "Pkh=6.626e-34  # Planck's constant  J-sec\n",
    "re=1/(4*pi*eps0)*qe^2/(me0*clight^2)  # classical radius of electron\n",
    "\n",
    "Cgamma=4*pi/3*re/(me0*clight^2)^3*(qe*10^9)^3  # m/GeV^3  This is sychrotron radiation constant\n",
    "\n",
    "using PyPlot"
   ]
  },
  {
   "cell_type": "code",
   "execution_count": 2,
   "metadata": {},
   "outputs": [
    {
     "data": {
      "text/plain": [
       "438.25467663551683"
      ]
     },
     "execution_count": 2,
     "metadata": {},
     "output_type": "execute_result"
    }
   ],
   "source": [
    "# RF\n",
    "sigmas=0.008 #(3mm)\n",
    "sigmat=sigmas/clight\n",
    "frms=clight/sqrt(2)/pi/sigmas\n",
    "deltaTforACE3P=1/(75*frms)*clight\n",
    "wakelength=clight*1.6e-9\n",
    "\n",
    "\n",
    "# RF Frequencies\n",
    "Crev=3834.9\n",
    "frev=clight/Crev\n",
    "f9MHz=frev*120\n",
    "f28MHz=frev*360\n",
    "T28MHz=1/f28MHz\n",
    "f56MHz=frev*720\n",
    "frfharm=frev*720*10\n",
    "frf=f56MHz*10\n",
    "Trf=1/frf\n",
    "Krf=2*pi/(clight*Trf)\n",
    "Omegarf=2*pi/Trf\n",
    "Lcaveff=1.157 #m\n",
    "RoQ2cell=146;  # R/Q per cell\n",
    "Q0=2e10;\n",
    "Lamdarf=clight/frf\n",
    "Lcell=Lamdarf/2\n",
    "\n",
    "Ne=31.e10\n",
    "Qb=Ne*qe\n",
    "Ib=Ne*qe*f28MHz\n",
    "\n",
    "# Lattice\n",
    "Ee0=me0*clight^2/qe #0.511 MeV\n",
    "rho_dipole=253 # m\n",
    "\n",
    "gammaT=31\n",
    "alpha_compact=1/gammaT^2 # for the energy lower than the transition energy\n",
    "gt=sqrt(1/9.589601e-4)\n",
    "5.2/0.01412534228\n",
    "3.42/0.0078036817\n"
   ]
  },
  {
   "cell_type": "markdown",
   "metadata": {},
   "source": [
    "# Storage Ring parameters==> requirement of the RF system"
   ]
  },
  {
   "cell_type": "code",
   "execution_count": 3,
   "metadata": {},
   "outputs": [
    {
     "data": {
      "image/png": "[encoded data removed]",
      "text/plain": [
       "Figure(PyObject <Figure size 500x300 with 1 Axes>)"
      ]
     },
     "metadata": {},
     "output_type": "display_data"
    },
    {
     "data": {
      "text/plain": [
       "PyObject Text(24.0, 0.5, 'Energy acceptance(dE/E)')"
      ]
     },
     "execution_count": 3,
     "metadata": {},
     "output_type": "execute_result"
    }
   ],
   "source": [
    "# Synchronic Energy loss per particle per turn \n",
    "function Usynloss(Eb,rho,bendingfactor)   # Unit: eV or V\n",
    "    return Cgamma*(Eb/1e9)^4/(rho*bendingfactor)*1e9  # Eb in GeV, rho is dipole radius, bendingfactor for supper band\n",
    "end\n",
    "\n",
    "# sychrotron radiation power per bunch per turn \n",
    "function Psynloss(Eb,rho,bendingfactor,Ib)  # Unit in W\n",
    "    U0=Usynloss(Eb,rho,bendingfactor)\n",
    "    return U0*Ib\n",
    "end\n",
    "\n",
    "\n",
    "Psynloss(5e9,rho_dipole,0.086,Qb*f28MHz)\n",
    "# energy acceptance\n",
    "function dEoverE_acceptance(Eb,rho,bendingfactor,alpha_c,frf,phi_syn)\n",
    "    U0=Usynloss(Eb,rho,bendingfactor)\n",
    "    h=frf/frev\n",
    "    return sqrt(2*U0/(pi*alpha_c*h*Eb)*(sqrt((1/sin(phi_syn))^2-1)-acos(sin(phi_syn))))\n",
    "end\n",
    "\n",
    "# detuning frequency \n",
    "\n",
    "function Detuning_cav(I0,phi,RoQ,Vc)\n",
    "    return frf*I0*RoQ/2/Vc*cos(phi)   # detuning frequency\n",
    "end\n",
    "    \n",
    "phi_syn_accept=11.5*pi/180\n",
    "\n",
    "# required Rf cavity voltage\n",
    "\n",
    "function Vc(Ncav,phi,Eb,rho,bendingfactor)\n",
    "    return Usynloss(Eb,rho,bendingfactor)/sin(phi)/Ncav  # required voltage per cavity\n",
    "end\n",
    "\n",
    "# Tune\n",
    "\n",
    "function Qs_tune(Eb,rho,bendingfactor,alpha_c,frf,Vcav,Ncav)\n",
    "    U0=Usynloss(Eb,rho,bendingfactor)\n",
    "    h=frf/frev\n",
    "    return sqrt(alpha_c*h/(2*pi*Eb)*sqrt((Vcav*Ncav)^2-U0^2))\n",
    "end\n",
    "\n",
    "function Qs_tune2(alpha_c,h,Eb,Vcav,Ncav,U0)\n",
    "    \n",
    "    return sqrt(alpha_c*h/(2*pi*Eb)*sqrt((Vcav*Ncav)^2-U0^2))\n",
    "end\n",
    "\n",
    "# Synchron frequency\n",
    "\n",
    "function fsyn(Qs,frev)\n",
    "    return Qs*frev\n",
    "end\n",
    "\n",
    "# rms bunch energy spread sigmaE/E in the iso-magnetic machine\n",
    "function sigmaEoverEb(Eb,Je,rho,bendingfactor)\n",
    "    gamma=Eb/Ee0\n",
    "    Cq= 55*Pkh*clight/32/sqrt(3)/me0/clight^2/2/pi\n",
    "    D=0   \n",
    "    Je=2-D    # logitudinal damping partition number\n",
    "    return gamma*sqrt(Cq/Je/rho/bendingfactor)\n",
    "end\n",
    "\n",
    "# bunch length\n",
    "function rmsbunchlength(alpha_c,R,Qs,sigmaEoverE)\n",
    "    return alpha_c*R/Qs*sigmaEoverE\n",
    "end\n",
    "\n",
    "fig=figure(figsize=(5,3))\n",
    "phi=90:5:150\n",
    "plot(phi,map(phi->dEoverE_acceptance(5e9,rho_dipole,0.086,alpha_compact,frf,phi*pi/180),phi))\n",
    "xlabel(\"Phi_syn in degree\")\n",
    "ylabel(\"Energy acceptance(dE/E)\")\n"
   ]
  },
  {
   "cell_type": "code",
   "execution_count": 4,
   "metadata": {},
   "outputs": [
    {
     "data": {
      "text/plain": [
       "Inf"
      ]
     },
     "execution_count": 4,
     "metadata": {},
     "output_type": "execute_result"
    }
   ],
   "source": [
    "Usynloss(10e9,368,0.0)"
   ]
  },
  {
   "cell_type": "code",
   "execution_count": 5,
   "metadata": {},
   "outputs": [
    {
     "data": {
      "text/plain": [
       "9.823124106463765e7"
      ]
     },
     "execution_count": 5,
     "metadata": {},
     "output_type": "execute_result"
    }
   ],
   "source": [
    "Vc(1,165*pi/180,5e9,rho_dipole,0.0086)"
   ]
  },
  {
   "cell_type": "code",
   "execution_count": 6,
   "metadata": {},
   "outputs": [
    {
     "data": {
      "text/plain": [
       "0.05459102485200426"
      ]
     },
     "execution_count": 6,
     "metadata": {},
     "output_type": "execute_result"
    }
   ],
   "source": [
    "Qs_tune(5e9,rho_dipole,0.086,alpha_compact,frf,Vc(5,phi_syn_accept,5e9,rho_dipole,0.086),5)"
   ]
  },
  {
   "cell_type": "code",
   "execution_count": 7,
   "metadata": {},
   "outputs": [
    {
     "data": {
      "text/plain": [
       "-50061.14536874114"
      ]
     },
     "execution_count": 7,
     "metadata": {},
     "output_type": "execute_result"
    }
   ],
   "source": [
    "Detuning_cav(Ib,3.03,RoQ2cell/2,0.57e6)"
   ]
  },
  {
   "cell_type": "code",
   "execution_count": 8,
   "metadata": {},
   "outputs": [
    {
     "data": {
      "text/plain": [
       "2.5504719287889684e6"
      ]
     },
     "execution_count": 8,
     "metadata": {},
     "output_type": "execute_result"
    }
   ],
   "source": [
    "Vc(5,phi_syn_accept,5e9,rho_dipole,0.086)"
   ]
  },
  {
   "cell_type": "code",
   "execution_count": 9,
   "metadata": {},
   "outputs": [
    {
     "data": {
      "text/plain": [
       "3.8329010484659114e-13"
      ]
     },
     "execution_count": 9,
     "metadata": {},
     "output_type": "execute_result"
    }
   ],
   "source": [
    "Cq= 55*Pkh*clight/32/sqrt(3)/me0/clight^2/2/pi"
   ]
  },
  {
   "cell_type": "code",
   "execution_count": 10,
   "metadata": {},
   "outputs": [
    {
     "data": {
      "text/plain": [
       "0.0009184491009288707"
      ]
     },
     "execution_count": 10,
     "metadata": {},
     "output_type": "execute_result"
    }
   ],
   "source": [
    "sigmaEoverEb(5e9,2,rho_dipole,0.086)"
   ]
  },
  {
   "cell_type": "code",
   "execution_count": 11,
   "metadata": {},
   "outputs": [
    {
     "data": {
      "text/plain": [
       "0.01068524866574576"
      ]
     },
     "execution_count": 11,
     "metadata": {},
     "output_type": "execute_result"
    }
   ],
   "source": [
    "rmsbunchlength(alpha_compact,Crev/2/pi,Qs_tune(5e9,rho_dipole,0.086,alpha_compact,frf,Vc(5,phi_syn_accept,5e9,rho_dipole,0.086),5),sigmaEoverEb(5e9,2,rho_dipole,0.086))"
   ]
  },
  {
   "cell_type": "code",
   "execution_count": 12,
   "metadata": {},
   "outputs": [
    {
     "data": {
      "text/plain": [
       "4267.641274901938"
      ]
     },
     "execution_count": 12,
     "metadata": {},
     "output_type": "execute_result"
    }
   ],
   "source": [
    "fsyn(Qs_tune(5e9,rho_dipole,0.086,alpha_compact,frf,Vc(5,phi_syn_accept,5e9,rho_dipole,0.086),5),frev)"
   ]
  },
  {
   "cell_type": "code",
   "execution_count": 13,
   "metadata": {},
   "outputs": [
    {
     "data": {
      "text/plain": [
       "0.04983977875992421"
      ]
     },
     "execution_count": 13,
     "metadata": {},
     "output_type": "execute_result"
    }
   ],
   "source": [
    "#Qs_tune(Eb,rho,bendingfactor,alpha_c,frf,Vcav,Ncav) Vc(Ncav,phi,Eb,rho,bendingfactor)\n",
    "#Qs_tune2(alpha_c,h,Eb,Vcav,Ncav,U0)\n",
    "Qs_tune2(9.589601e-4,7200,10e9,22.9e6,1,3.665629e6)"
   ]
  },
  {
   "cell_type": "markdown",
   "metadata": {},
   "source": [
    "# Higher harmonic cavity"
   ]
  },
  {
   "cell_type": "code",
   "execution_count": 24,
   "metadata": {},
   "outputs": [
    {
     "data": {
      "text/plain": [
       "0.001040582726326743"
      ]
     },
     "execution_count": 24,
     "metadata": {},
     "output_type": "execute_result"
    }
   ],
   "source": [
    "alpha_compact"
   ]
  },
  {
   "cell_type": "code",
   "execution_count": 26,
   "metadata": {},
   "outputs": [
    {
     "data": {
      "image/png": "[encoded data removed]",
      "text/plain": [
       "Figure(PyObject <Figure size 400x300 with 1 Axes>)"
      ]
     },
     "metadata": {},
     "output_type": "display_data"
    },
    {
     "data": {
      "image/png": "[encoded data removed]",
      "text/plain": [
       "Figure(PyObject <Figure size 400x300 with 2 Axes>)"
      ]
     },
     "metadata": {},
     "output_type": "display_data"
    },
    {
     "data": {
      "text/plain": [
       "-10.893394649130904"
      ]
     },
     "execution_count": 26,
     "metadata": {},
     "output_type": "execute_result"
    }
   ],
   "source": [
    "#Plot of second harmonics cavity's effect\n",
    "vrf=40e6\n",
    "omegarf=2*pi*frf\n",
    "h=3\n",
    "phi10=150*pi/180\n",
    "phi20=atan(tan(phi10)/h)/h\n",
    "kharmV=-cos(phi10)/(h*cos(atan(tan(phi10))/h))*1\n",
    "\n",
    "v1(z,phi1)=vrf*sin(omegarf*z/clight+phi1)\n",
    "v2(z,phi2)=vrf*kharmV*sin(omegarf*h*z/clight+h*phi2)\n",
    "vtotal(z,phi1,phi2)=vrf*sin(omegarf*z/clight+phi1)+kharmV*vrf*sin(omegarf*h*z/clight+h*phi2)\n",
    "vtotal22(z,phi1)=vrf*(sin(omegarf*z/clight+phi1)-sin(phi1)-1*(sin(phi1)*(cos(h*omegarf*z/clight)-1)/h^2+cos(phi1)*sin(h*omegarf*z/clight)/h))\n",
    "z=0:1e-4:clight/frf*h\n",
    "\n",
    "fig=figure(figsize=(4,3))\n",
    "plot(z,map(z->vtotal(z,phi10,phi20),z),\"r-\",z,map(z->vtotal22(z,phi10)+1.7e7,z),\"k--\")\n",
    "plot(z,map(z->v1(z,phi10),z))\n",
    "plot(z,map(z->v2(z,phi20),z))\n",
    "\n",
    "Phi_pwell(z,phi1,phi2)=clight*vrf/omegarf*(cos(phi1)-cos(omegarf*z/clight+phi1))+clight*kharmV*vrf/(h*omegarf)*(cos(h*phi2)-cos(h*omegarf*z/clight+h*phi2))\n",
    "Phi_pwell_rf(z,phi1)=clight*vrf/omegarf*(cos(phi1)-cos(omegarf*z/clight+phi1))\n",
    "\n",
    "fig=figure(figsize=(4,3))\n",
    "plot(z,-map(z->(Phi_pwell(z,phi10,phi20)),z).-minimum(-map(z->(Phi_pwell(z,phi10,phi20)),z)),\"g-\")\n",
    "plot(z,-map(z->(Phi_pwell_rf(z,phi10)),z).-minimum(-map(z->(Phi_pwell_rf(z,phi10)),z)),\"b-\")\n",
    "sigmaz=0.025\n",
    "offset=0.4\n",
    "#fig=figure(figsize=(5,4))\n",
    "Gaussion(s,offset)=1/sqrt(2*pi)/(sigmaz)*exp(-0.5*((s-offset)/(sigmaz))^2) \n",
    "twinx()\n",
    "plot(z,map(s->Gaussion(s,offset),z),\"r--\")\n",
    "xlim(0.2,0.6)\n",
    "#sigz_lengthing=1/sqrt(-2*vrf2*2/vrf*cos(phi10)-1)\n",
    "phi20=atan(tan(phi10)/h)*180/pi"
   ]
  },
  {
   "cell_type": "code",
   "execution_count": 27,
   "metadata": {},
   "outputs": [
    {
     "data": {
      "text/plain": [
       "11483.86457519889"
      ]
     },
     "execution_count": 27,
     "metadata": {},
     "output_type": "execute_result"
    }
   ],
   "source": [
    "330*38.4e-9*123*2*pi*f28MHz*30/360/2\n"
   ]
  },
  {
   "cell_type": "code",
   "execution_count": 28,
   "metadata": {},
   "outputs": [
    {
     "data": {
      "text/plain": [
       "7.81172158218978e6"
      ]
     },
     "execution_count": 28,
     "metadata": {},
     "output_type": "execute_result"
    }
   ],
   "source": [
    "Q0=2.3e10\n",
    "I0=Qb*660*frev\n",
    "Tf0=2*Q0/Omegarf\n",
    "Tau0=1/f56MHz/Tf0\n",
    "Vb0=I0*RoQ2cell*Q0*Tau0*660"
   ]
  },
  {
   "cell_type": "code",
   "execution_count": 29,
   "metadata": {},
   "outputs": [
    {
     "data": {
      "text/plain": [
       "28961.34764009277"
      ]
     },
     "execution_count": 29,
     "metadata": {},
     "output_type": "execute_result"
    }
   ],
   "source": [
    "function deltaf(Qbx,fbunch,phis,RoQx,Vc,Qex)\n",
    "    Q0=2.3e10\n",
    "    tanPsi=-Qbx*fbunch*sin(phis)*RoQx*Q0/Vc/(1+Q0/Qex)\n",
    "    delta=tanPsi/2/Qex\n",
    "    deltaf=-frf*delta\n",
    "    return deltaf\n",
    "end\n",
    "\n",
    "df=deltaf(Qb,f56MHz,170*pi/180,RoQ2cell,22.88*1e6/11,2.96e4)"
   ]
  },
  {
   "cell_type": "code",
   "execution_count": 30,
   "metadata": {},
   "outputs": [
    {
     "data": {
      "text/plain": [
       "0.9873902424634915"
      ]
     },
     "execution_count": 30,
     "metadata": {},
     "output_type": "execute_result"
    }
   ],
   "source": [
    "exp(-(f28MHz*20*3*0.02/clight)^2)"
   ]
  },
  {
   "cell_type": "markdown",
   "metadata": {},
   "source": [
    "# Transient effects"
   ]
  },
  {
   "cell_type": "code",
   "execution_count": 36,
   "metadata": {},
   "outputs": [
    {
     "name": "stdout",
     "output_type": "stream",
     "text": [
      "0.00026399938265460446"
     ]
    },
    {
     "data": {
      "text/plain": [
       "1.3791487614557382e6 + 0.0im"
      ]
     },
     "execution_count": 36,
     "metadata": {},
     "output_type": "execute_result"
    }
   ],
   "source": [
    "function Tdecay(omegax,Qex)\n",
    "    return  2*Qex/omegax  # Voltage decay \n",
    "end\n",
    "\n",
    "function Vbg(omegax,RoQx,Qbx)\n",
    "    return RoQx*omegax*Qbx/2  # voltage excited by a bunch\n",
    "end\n",
    "Qb=50e-9\n",
    "frf=f28MHz*20*3\n",
    "RoQ=103\n",
    "Vb0=Vbg(2*pi*frf,RoQ,Qb)\n",
    "Nbunch=660\n",
    "Qe=1.19e5\n",
    "fbunch=f28MHz*2\n",
    "\n",
    "# At the time just after kth macro-pulse:\n",
    "function Vbtrain(Nbunch,deltafdetune,Qe,fbunch,t)\n",
    "    xbunch=Nbunch\n",
    "    Vbt=zeros(Complex{Float64},xbunch)\n",
    "    Vbt[1]=Vb0\n",
    "    dfdetuning=deltafdetune  # detuning the cavity Hz\n",
    "    fcav=frf-dfdetuning\n",
    "    Qext=Qe\n",
    "    Tfill=2*Qext/Omegarf\n",
    "    fb=fbunch\n",
    "    Tb=1/fb\n",
    "    Tau=Tb/Tfill # \n",
    "    deltaphase=Tb*(dfdetuning)*2*pi\n",
    "    tanPhi=deltaphase/Tau\n",
    "    for n=2:xbunch\n",
    "        Vbt[n]=Vbt[n-1]*exp(-Tau)*exp(-1im*deltaphase)+Vbt[1]\n",
    "    end  \n",
    "    print(Tau)\n",
    "    return  Vbt\n",
    "end\n",
    "Vbtrain(Nbunch,0,Qe,fbunch,0)[Nbunch]*30/360\n"
   ]
  },
  {
   "cell_type": "code",
   "execution_count": 38,
   "metadata": {},
   "outputs": [
    {
     "data": {
      "image/png": "[encoded data removed]",
      "text/plain": [
       "Figure(PyObject <Figure size 500x300 with 1 Axes>)"
      ]
     },
     "metadata": {},
     "output_type": "display_data"
    },
    {
     "data": {
      "image/png": "[encoded data removed]",
      "text/plain": [
       "Figure(PyObject <Figure size 500x300 with 1 Axes>)"
      ]
     },
     "metadata": {},
     "output_type": "display_data"
    },
    {
     "name": "stdout",
     "output_type": "stream",
     "text": [
      "0.00026399938265460446"
     ]
    },
    {
     "data": {
      "text/plain": [
       "PyObject Text(0.5, 1, 'Cavity phase shift in the gap')"
      ]
     },
     "execution_count": 38,
     "metadata": {},
     "output_type": "execute_result"
    }
   ],
   "source": [
    "#Vbtrain(Nbunch,deltafdetune,Qe,fbunch,t)\n",
    "Vbt=Vbtrain(Nbunch,0,Qe,fbunch,0)*30/360\n",
    "fig=figure(figsize=(5,3))\n",
    "#aa=Vbtre+1im*Vbtim\n",
    "#plot(-abs(Vbt)/1e3,\"ro\")\n",
    "plot(-real(Vbt)/1e3,\"bd\")\n",
    "ylabel(\"kV\")\n",
    "xlabel(\"*T28MHz\")\n",
    "title(\"Cavity voltage drop in the gap\")\n",
    "fig=figure(figsize=(5,3))\n",
    "plot(atan.(imag.(Vbt)./real(Vbt)),\"bd\")\n",
    "ylabel(\"rad\")\n",
    "xlabel(\"*T28MHz\")\n",
    "title(\"Cavity phase shift in the gap\")"
   ]
  },
  {
   "cell_type": "code",
   "execution_count": 43,
   "metadata": {},
   "outputs": [
    {
     "name": "stdout",
     "output_type": "stream",
     "text": [
      "\n",
      "\n",
      "\n",
      "******************************************************************************************\n",
      "Results for Higher Harmonic Calculation\n",
      "\n",
      "frev = 78196.291 (Hz)\n",
      "wrev = 491321.785 (Rad/s)\n",
      "trev = 12.788 (us)\n",
      "\n",
      "Fundamental Frequency    = 563.013 (MHz)\n",
      "Beam Energy              =  10.000 (GeV)\n",
      "gammaT      = 31.000\n",
      "temperature =  0.040\n",
      "\n",
      "Fundamental Peak Voltage = 22.900 (MV)\n",
      "Energy Loss per Turn     = 3.670 (MeV)\n",
      "\n",
      "HH Num  =  3\n",
      "phis(1) =  170.778 (deg),  2.981 (rad)\n",
      "phis(3) =  169.613 (deg),  2.960 (rad)\n",
      "A(3)    =   -0.459\n",
      "B(3)    =    7.508\n",
      "M(3)    =    7.522\n",
      "k(3)    =    0.328\n"
     ]
    },
    {
     "ename": "UndefVarError",
     "evalue": "UndefVarError: atan2 not defined",
     "output_type": "error",
     "traceback": [
      "UndefVarError: atan2 not defined",
      "",
      "Stacktrace:",
      " [1] P(::Int64) at ./In[43]:81",
      " [2] top-level scope at ./In[43]:134"
     ]
    }
   ],
   "source": [
    "# Rev D (2017-11-08)\n",
    "# Thinking how best to plot all third harmonic cases, i.e. from optimal phase to zero synchronous phase for h3.\n",
    "# Idea is to see if I can minimize 3rd harmonic FPC power requirement, at least get it down to 20kW.\n",
    "\n",
    "# Rev C\n",
    "# MMB confirms he gets same powers I'm getting.\n",
    "\n",
    "# Constants ####################################################################\n",
    "c = 2.99792458E8\t\t\t\t\t\t# Speed of light                   (m/s)\n",
    "Cr = 3833.845\t\t\t\t\t\t\t# RHIC nominal circumference       (m)\n",
    "\n",
    "# Functions ####################################################################\n",
    "wavelength(x) = c/x\t\t\t\t\t\t# Free space wavelength, x is frequency\n",
    "wavenum(x)    = 2*pi/wavelength(x)\t\t# Wavenumber\n",
    "\n",
    "function phis(n)                                        # Calculate H1 synchronous phase\n",
    "    if n == 1\n",
    "        return pi - asin(U1/V1)                         # Standard phis if no Hn\n",
    "    elseif n > 1\n",
    "        return pi - asin((U1/V1)*(1-1/(1-n^2)))        # Scale phis to account for Hn\n",
    "    else\n",
    "        error(\"Error: n < 1\")\n",
    "    end\n",
    "end\n",
    "\n",
    "# Derived Parameters ###########################################################\n",
    "frev = c/Cr\t\t\t\t\t\t\t\t# Nominal revolution freqeuncy (Hz)\n",
    "wrev = 2*pi*frev\n",
    "trev = 1/frev\n",
    "\n",
    "@printf \"\\n\\n\\n\"\n",
    "@printf \"******************************************************************************************\\n\"\n",
    "@printf \"Results for Higher Harmonic Calculation\\n\"\n",
    "@printf \"\\n\"\n",
    "\n",
    "@printf \"frev = %0.3f (Hz)\\n\" frev\n",
    "@printf \"wrev = %0.3f (Rad/s)\\n\" wrev\n",
    "@printf \"trev = %0.3f (us)\\n\" trev*1E6\n",
    "@printf \"\\n\"\n",
    "\n",
    "h1 = 7200\t\t\t\t\t\t\t\t# Fundamental harmonic number\n",
    "h3 = 3*h1\n",
    "\n",
    "f1 = h1*frev\t\t\t\t\t\t\t# Fundamental RF frequency\n",
    "f3 = h3*frev\n",
    "\n",
    "# Voltages #####################################################################\n",
    "V1 = 22.9\t\t\t\t\t\t\t\t# Fundamental peak voltage (MV)\n",
    "U1 = 3.67\t\t\t\t\t\t\t\t# Energy loss per turn (MeV)\n",
    "\n",
    "#gammaT = 31\n",
    "gammaT = 31.0 \t\t\t\t\t\t\t# e- ring 18 GeV gammaT\n",
    "eta = (1/gammaT^2)\t\t\t\t\t\t# Slip factor\n",
    "E0 = 10.0E3\t\t\t\t\t\t\t\t# Beam total energy (MeV)\n",
    "sigmaEonE = 1.0E-3\t\t\t\t\t\t# Beam energy spread\n",
    "temp = 1.0*Cr*eta*E0*(sigmaEonE^2)\t\t# For bunch profile calculation\n",
    "\n",
    "@printf \"Fundamental Frequency    = %7.3f (MHz)\\n\" f1/1E6\n",
    "@printf \"Beam Energy              = %7.3f (GeV)\\n\" E0/1000\n",
    "@printf \"gammaT      = %6.3f\\n\" gammaT\n",
    "@printf \"temperature = %6.3f\\n\" temp\n",
    "@printf \"\\n\"\n",
    "@printf \"Fundamental Peak Voltage = %5.3f (MV)\\n\" V1\n",
    "@printf \"Energy Loss per Turn     = %5.3f (MeV)\\n\" U1\n",
    "\n",
    "println()\n",
    "\n",
    "# Nominal and dual harmonic syncronous phases and amplitudes ###################\n",
    "#phis1 = pi - asin(U1/V1)\t\t\t\t\t # Nominal phis without dual harmonic, above gammaT\n",
    "#phis(n) = pi - asin((U1/V1)*(n^2)/(n^2-1))   # Phis with dual harmonic, second harmonic in h=n*h1\n",
    "\n",
    "hh = 3\n",
    "\n",
    "# Hn coefficients. 0 if n <= 1, implying H1 only calculation.\n",
    "\n",
    "#A(n) = n>1 ? V1*(sin(phis(1))-sin(phis(n))) : 0                 # Calculated I&Q cofficients for harmonic n\n",
    "A(n) = n>1 ? (-1/n^2)*V1*sin(phis(n)) : 0                      # Calculated I&Q cofficients for harmonic n\n",
    "B(n) = n>1 ? (-1/n)*V1*cos(phis(n)) : 0                        # V(n) = A(n)cos(nx)+B(n)sin(nx)\n",
    "M(n) = sqrt(A(n)^2 + B(n)^2)                                    # Mag of harmonic n\n",
    "k(n) = n>1 ? sqrt((1/n^2)-((U1/V1)^2)*(1/(n^2-1))) : 0          # Scale factor for harmonic n\n",
    "P(n) = n>1 ? 2*pi - (atan2(B(n),A(n)) + 1.5*pi) : 0             # Phase of harmonic n, converted to ref sin(nx+P(n))\n",
    "\n",
    "# Voltage and Potential Well Functions ############################################################\n",
    "k1 = wavenum(f1)\n",
    "V(x)    = V1*sin(k1*x + phis(1))                  # Fundamental without higher harmonic\n",
    "Vf(x,n) = V1*sin(k1*x + phis(n))\t\t\t\t# Fundamental voltage when using higher harmonic n\n",
    "kvh = 0.6                             # Kvh=1 is the optimum voltage\n",
    "Vh(x,n) = kvh*(A(n)*cos(k1*n*x) + B(n)*sin(k1*n*x))\t# Higher harmoncic voltage\n",
    "#Vh(x,n) = 0*M(n)*sin(k1*n*x + P(n))\n",
    "Vs(x,n) = Vf(x,n) + Vh(x,n)     \t\t\t\t# Vector sum of fundmanetal and higher harmonic\n",
    "\n",
    "function Well(x,n)\n",
    "    if n>1\n",
    "        return -(-V1*(1/k1)*cos(k1*x+phis(n)) + ((1/(k1*n))*kvh*A(n)*sin(k1*n*x) - (1/(k1*n))*kvh*B(n)*cos(k1*n*x)) + (1/k1)*V1*cos(phis(n))*(1-1/n^2) - x*Vs(0,n))\n",
    "    else\n",
    "        return -(-V1*(1/k1)*cos(k1*x+phis(1)) + (1/k1)*V1*cos(phis(1)) - x*V(0))\n",
    "    end\n",
    "end\n",
    "\n",
    "bunch(x,n) = exp(-Well(x,n)/temp)   # Nominal bunch profile\n",
    "\n",
    "len = wavelength(f1)/2.5\n",
    "xlo = -len\n",
    "xhi =  len\n",
    "npts = 10000\n",
    "binwidth = (xhi-xlo)/npts\n",
    "areaf = 0\n",
    "areahh = 0\n",
    "\n",
    "for i=0:npts                            # Calculating areas under bunch profiles to use for normalization\n",
    "    x = xlo + i*binwidth\n",
    "    areaf = areaf + bunch(x,1)*binwidth\n",
    "    areahh = areahh + bunch(x,hh)*binwidth\n",
    "end\n",
    "\n",
    "Nb = 660\n",
    "Qb = 45.6E-9                            # Total bunch charge (nC)\n",
    "Idc = Qb*Nb/trev                        # Avergae current in the ring\n",
    "\n",
    "ql1(x)  = Qb*bunch(x,1)/areaf           # Bunch line charge density for no higher harmonic case (C/m)\n",
    "qlhh(x) = Qb*bunch(x,hh)/areahh         # Bunch line charge density for higher harmonic case    (C/m)\n",
    "\n",
    "i1(x) = ql1(x)*3E8                      # Bunch current profile (w/o  higher harmonic)  (A)\n",
    "ihh(x) = qlhh(x)*3E8                    # Bunch current profile (with higher harmonic)  (A)\n",
    "\n",
    "\n",
    "@printf \"HH Num  =  %d\\n\" hh\n",
    "@printf \"phis(1) = %8.3f (deg), %6.3f (rad)\\n\" phis(1)*180/pi phis(1)\n",
    "@printf \"phis(%d) = %8.3f (deg), %6.3f (rad)\\n\" hh phis(hh)*180/pi phis(hh)\n",
    "@printf \"A(%d)    = %8.3f\\n\" hh A(hh)\n",
    "@printf \"B(%d)    = %8.3f\\n\" hh B(hh)\n",
    "@printf \"M(%d)    = %8.3f\\n\" hh M(hh)\n",
    "@printf \"k(%d)    = %8.3f\\n\" hh k(hh)\n",
    "@printf \"P(%d)    = %8.3f (deg), %0.3f (rad)\\n\" hh P(hh)*180/pi P(hh)\n",
    "println()\n",
    "\n",
    "@printf \"For Nb = %d, with Qb = %0.2f (nC)\\n\" Nb Qb*1E9\n",
    "@printf \"Average Beam Current = %0.3f (A)\\n\" Idc\n",
    "@printf \"Peak Current (A) w/o higher harmonic = %0.3f, with higher harmonic = %0.3f, Ratio = %0.3f\\n\" i1(0) ihh(0) i1(0)/ihh(0)\n",
    "#@printf \"Ratio of Peak Current w/o higher harmonic to w/ higher harmonic = %0.3f\\n\" i1(0)/ihh(0)\n",
    "println()\n",
    "\n",
    "energyq1 =0\n",
    "energyqs =0\n",
    "energyqf =0\n",
    "energyqh =0\n",
    "\n",
    "for i=0:npts\n",
    "    x = xlo + i*binwidth\n",
    "    energyq1 = energyq1 + ql1(x)*binwidth*V(x)*1E6         # Energy kick to bunch on one turn without higher harmonic\n",
    "    energyqs = energyqs + qlhh(x)*binwidth*Vs(x,hh)*1E6    # Energy kick to bunch from total voltage on one turn with higher harmonic\n",
    "    energyqf = energyqf + qlhh(x)*binwidth*Vf(x,hh)*1E6    # Energy kick to bunch from fundamental voltage on one turn with higher harmonic\n",
    "    energyqh = energyqh + qlhh(x)*binwidth*Vh(x,hh)*1E6    # Energy kick to bunch from harmonic voltage on one turn with higher harmonic\n",
    "end\n",
    "\n",
    "powerq1 = energyq1*Nb/trev          # Power transferred to bunch without higher harmonic\n",
    "powerqs = energyqs*Nb/trev          # Power transferred to bunch from total voltage with higher harmonic\n",
    "powerqf = energyqf*Nb/trev          # Power transferred to bunch from fund  voltage with higher harmonic\n",
    "powerqh = energyqh*Nb/trev          # Power transferred to bunch from harm  voltage with higher harmonic\n",
    "\n",
    "@printf \"Power delivered to beam, calculated from integrated energy kicks along bunch\\n\"\n",
    "@printf \"Power delivered to beam, Without higher harmonic)       = %6.3f (MW)\\n\" powerq1/1E6\n",
    "@printf \"Power delivered to beam, Total (With higher harmonic)   = %6.3f (MW)\\n\" powerqs/1E6\n",
    "@printf \"Power delivered to beam, From H1 (With higher harmonic) = %6.3f (MW)\\n\" powerqf/1E6\n",
    "@printf \"Power delivered to beam, From H3 (With higher harmonic) = %6.3f (MW)\\n\" powerqh/1E6\n",
    "println()\n",
    "\n",
    "@printf \"Synchronous voltages calcuated from voltage functions as V(0) (0 is bunch center)\\n\"\n",
    "@printf \"Vf(0,%d) = %0.3f\\n\" hh Vf(0,hh)\n",
    "@printf \"Vh(0,%d) = %0.3f\\n\" hh Vh(0,hh)\n",
    "@printf \"Vs(0,%d) = %0.3f\\n\" hh Vs(0,hh)\n",
    "println()\n",
    "\n",
    "#Start of translating MMB's Fortran evaluation of the average voltage seen by bunch #############################\n",
    "vstop = 0\n",
    "vftop = 0\n",
    "vhtop = 0\n",
    "rmstophh = 0\n",
    "rmstoph1 = 0\n",
    "vbot = 0\n",
    "x = 0\n",
    "\n",
    "for i=0:npts                                # Calculating weighted average voltages seen by bunch\n",
    "    x = xlo + (xhi-xlo)*i/npts\n",
    "    vstop = vstop + Vs(x,hh)*ihh(x)\n",
    "    vftop = vftop + Vf(x,hh)*ihh(x)\n",
    "    vhtop = vhtop + Vh(x,hh)*ihh(x)\n",
    "    rmstophh = rmstophh + x*x*ihh(x)\n",
    "    rmstoph1 = rmstoph1 + x*x*i1(x)\n",
    "    vbot = vbot + ihh(x)\n",
    "end\n",
    "\n",
    "@printf \"Average voltage calculated via weighted average summation, and power to beam as Vavg*Idc\\n\"\n",
    "@printf \"Average Total Voltage = %7.3f (MV), Power = %7.3f (MW)\\n\" vstop/vbot Idc*vstop/vbot\n",
    "@printf \"Average H1 Voltage    = %7.3f (MV), Power = %7.3f (MW)\\n\" vftop/vbot Idc*vftop/vbot\n",
    "@printf \"Average H3 Voltage    = %7.3f (MV), Power = %7.3f (MW)\\n\" vhtop/vbot Idc*vhtop/vbot\n",
    "@printf \"Average H1+H3 Voltage = %7.3f (MV), Power = %7.3f (MW)\\n\" (vftop+vhtop)/vbot Idc*(vftop+vhtop)/vbot\n",
    "\n",
    "println()\n",
    "@printf \"H1 Only   rms bunch length = %4.1f (mm)\\n\" sqrt(rmstoph1/vbot)*1E3\n",
    "@printf \"Flattened rms bunch length = %4.1f (mm)\\n\" sqrt(rmstophh/vbot)*1E3\n",
    "\n",
    "println()\n",
    "z = pwd()\n",
    "println(\"Current working directory = \",z)\n",
    "\n",
    "#ATV = @sprintf \"Average Total Voltage (MV) = %0.3f, Power (MW) = %0.3f\\n\" vstop/vbot Idc*vstop/vbot\n",
    "f = open(\"eRHIC_h3_B_Plot_Config.txt\",\"w\")\n",
    "write(f, @sprintf \"Results for Higher Harmonic Calculation\\n\")\n",
    "write(f, @sprintf \"\\n\")\n",
    "\n",
    "write(f, @sprintf \"frev = %0.3f (Hz)\\n\" frev)\n",
    "write(f, @sprintf \"wrev = %0.3f (Rad/s)\\n\" wrev)\n",
    "write(f, @sprintf \"trev = %0.3f (us)\\n\" trev*1E6)\n",
    "write(f, @sprintf \"\\n\")\n",
    "\n",
    "write(f, @sprintf \"Fundamental Peak Voltage (MV) = %0.3f\\n\" V1)\n",
    "write(f, @sprintf \"Energy Loss per Turn    (MeV) = %0.3f\\n\" U1)\n",
    "write(f, @sprintf \"Beam Energy (MeV) = %0.3f\\n\" E0)\n",
    "write(f, @sprintf \"temperature = %0.3f\\n\" temp)\n",
    "write(f, @sprintf \"phis(1)   = %0.3f (deg), %0.3f (rad) [H1 phis without higher harmonic]\\n\" phis(1)*180/pi phis(1))\n",
    "write(f, @sprintf \"phis(%d) = %0.3f (deg), %0.3f (rad) [H1 phis with higher harmonic]\\n\" hh phis(hh)*180/pi phis(hh))\n",
    "write(f, @sprintf \"A(%d) = %0.3f [Cosine component of higher harmonic voltage]\\n\" hh A(hh))\n",
    "write(f, @sprintf \"B(%d) = %0.3f [Sine component of higher harmonic voltage]\\n\" hh B(hh))\n",
    "write(f, @sprintf \"M(%d) = %0.3f [Magnitude of higher harmonic voltage]\\n\" hh M(hh))\n",
    "write(f, @sprintf \"P(%d) = %0.3f (deg) [phis of higher harmonic voltage relative to positive zero crossing], %0.3f (rad)\\n\" hh P(hh)*180/pi P(hh))\n",
    "write(f, @sprintf \"\\n\")\n",
    "\n",
    "write(f, @sprintf \"For Nb = %d, with Qb = %0.2f (nC)\\n\" Nb Qb*1E9)\n",
    "write(f, @sprintf \"Average Beam Current = %0.3f (A)\\n\" Idc)\n",
    "write(f, @sprintf \"Peak Current w/o higher harmonic = %0.3f (A), with higher harmonic = %0.3f (A)\\n\" i1(0) ihh(0))\n",
    "write(f, @sprintf \"Ratio of Peak Current w/o higher harmonic to w/ higher harmonic = %0.3f\\n\" i1(0)/ihh(0))\n",
    "write(f, @sprintf \"\\n\")\n",
    "\n",
    "write(f, @sprintf \"Power delivered to beam calculated from integrated energy kicks along bunch\\n\")\n",
    "write(f, @sprintf \"Power delivered to beam, (No higher harmonic)           = %0.3f (MW)\\n\" powerq1/1E6)\n",
    "write(f, @sprintf \"Power delivered to beam, Total (With higher harmonic)   = %0.3f (MW)\\n\" powerqs/1E6)\n",
    "write(f, @sprintf \"Power delivered to beam, From H1 (With higher harmonic) = %0.3f (MW)\\n\" powerqf/1E6)\n",
    "write(f, @sprintf \"Power delivered to beam, From H%d (With higher harmonic) = %0.3f (MW)\\n\" hh powerqh/1E6)\n",
    "write(f, @sprintf \"\\n\")\n",
    "\n",
    "write(f, @sprintf \"Power delivered to beam calculated from Average Voltage * Idc\\n\")\n",
    "write(f, @sprintf \"Average Total Voltage = %0.3f (MV), Power = %0.3f (MW)\\n\" vstop/vbot Idc*vstop/vbot)\n",
    "write(f, @sprintf \"Average    H1 Voltage = %0.3f (MV), Power = %0.3f (MW)\\n\" vftop/vbot Idc*vftop/vbot)\n",
    "write(f, @sprintf \"Average    H%d Voltage = %0.3f (MV), Power = %0.3f (MW)\\n\" hh vhtop/vbot Idc*vhtop/vbot)\n",
    "write(f, @sprintf \"\\n\")\n",
    "\n",
    "write(f, @sprintf \"Synchronous voltages calcuated from voltage functions as V(0) (0 is bunch center)\\n\")\n",
    "write(f, @sprintf \"Vf(0,%d) = %0.3f (MV)\\n\" hh Vf(0,hh))\n",
    "write(f, @sprintf \"Vh(0,%d) = %0.3f (MV)\\n\" hh Vh(0,hh))\n",
    "write(f, @sprintf \"Vs(0,%d) = %0.3f (MV)\\n\" hh Vs(0,hh))\n",
    "write(f, @sprintf \"\\n\")\n",
    "\n",
    "close(f)\n",
    "kw = 10     # Well scale factor for plot\n",
    "kv = 1     # voltage scale factor for plot\n",
    "ki = 0.1   # Current scale factor\n",
    "dout =zeros(npts+1,8)\n",
    "for i=0:npts\n",
    "    x = xlo + (xhi-xlo)*i/npts\n",
    "    dout[i+1,:] = [ x Well(x,1)*kw Well(x,hh)*kw Vf(x,hh)*kv Vh(x,hh)*kv Vs(x,hh)*kv ki*i1(x) ki*ihh(x)]\n",
    "end\n",
    "\n",
    "f = open(\"eRHIC_h3_B_Output.txt\",\"w\")\n",
    "write(f,\"# Output from eRHIC_h3_D.jl\\n\")\n",
    "write(f,\"# x (m), Well(x,1), Well(x,hh) Vf(x), Vh(x), Vs(x), i1(x), ihh(x)\\n\")\n",
    "writedlm(f,dout,\",\")\n",
    "close(f)\n",
    "xt=0:1e-4:clight/f1\n",
    "#run(`wgnuplot.exe gp_eRHIC_hh.plt`)\n",
    "#plot(xt,map(x->Vs(x,hh),xt))\n",
    "#plot(xt,map(x->Vs(x,hh),xt),\"r-\",xt,map(x->Vh(x,hh),xt))\n",
    "#display(h)\n",
    "#h = plot(x,Vh(x,hh))\n",
    "#display(h)\n",
    "#plot(x,Vs(x,hh))\n",
    "#plot(x,Vs(x,hh),x,Vh(x,hh),x,Vf(x,hh),x,i1(x),x,ih(x))\n",
    "#plot(x,Vs(x,hh),x,Vh(x,hh),x,Vf(x,hh))\n",
    "#gui()\n",
    "xt=-clight/f1/2:1e-5:clight/f1/2\n",
    "#run(`wgnuplot.exe gp_eRHIC_hh.plt`)\n",
    "#plot(xt,map(x->Vs(x,hh),xt))\n",
    "plot(xt,map(x->Vs(x,hh),xt),\"r-\",xt,map(x->Vh(x,hh),xt),xt,map(x->Vf(x,hh),xt))\n",
    "plot(xt,map(x->i1(x),xt)/10,\"k-\",xt,map(x->ihh(x),xt)/10,\"k--\")\n",
    "#plot(x,Vs(x,hh),x,Vh(x,hh),x,Vf(x,hh),x,i1(x),x,ihh(x))\n",
    "#plot(x,Vs(x,hh),x,Vh(x,hh),x,Vf(x,hh))"
   ]
  },
  {
   "cell_type": "code",
   "execution_count": 34,
   "metadata": {},
   "outputs": [
    {
     "data": {
      "text/plain": [
       "0.6832985019252678"
      ]
     },
     "execution_count": 34,
     "metadata": {},
     "output_type": "execute_result"
    }
   ],
   "source": [
    "sqrt(1/9-(3.66/22.9)^2/8)*22.88/11"
   ]
  },
  {
   "cell_type": "code",
   "execution_count": 40,
   "metadata": {},
   "outputs": [],
   "source": []
  },
  {
   "cell_type": "code",
   "execution_count": null,
   "metadata": {},
   "outputs": [],
   "source": []
  }
 ],
 "metadata": {
  "kernelspec": {
   "display_name": "Julia 1.4.0",
   "language": "julia",
   "name": "julia-1.4"
  },
  "language_info": {
   "file_extension": ".jl",
   "mimetype": "application/julia",
   "name": "julia",
   "version": "1.4.0"
  }
 },
 "nbformat": 4,
 "nbformat_minor": 1
}
